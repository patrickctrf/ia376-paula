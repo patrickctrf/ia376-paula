{
  "cells": [
    {
      "cell_type": "markdown",
      "metadata": {
        "id": "view-in-github",
        "colab_type": "text"
      },
      "source": [
        "<a href=\"https://colab.research.google.com/github/patrickctrf/ia376-paula/blob/l2/L2/vae.ipynb\" target=\"_parent\"><img src=\"https://colab.research.google.com/assets/colab-badge.svg\" alt=\"Open In Colab\"/></a>"
      ]
    },
    {
      "cell_type": "code",
      "execution_count": null,
      "metadata": {
        "collapsed": true,
        "id": "NoO9-_ngiBNM"
      },
      "outputs": [],
      "source": [
        "import random\n",
        "import numpy as np\n",
        "import torch\n",
        "\n",
        "random.seed(123)\n",
        "np.random.seed(123)\n",
        "torch.manual_seed(123)\n",
        "\n",
        "from matplotlib import pyplot as plt\n",
        "\n",
        "img_dim = 28\n",
        "\n",
        "\n",
        "def show_img(img):\n",
        "    img = img.permute(1, 2, 0)\n",
        "    if img.shape[2] == 1:\n",
        "        img = img.view(img.shape[0], img.shape[1])\n",
        "    plt.title(f'Image has size {img.cpu().numpy().shape}')\n",
        "    plt.imshow(img, cmap='gray')\n",
        "    plt.axis('off')\n",
        "    plt.show()"
      ]
    },
    {
      "cell_type": "code",
      "execution_count": null,
      "outputs": [],
      "source": [
        "device = torch.device('cuda' if torch.cuda.is_available() else 'cpu')"
      ],
      "metadata": {
        "pycharm": {
          "name": "#%%\n"
        },
        "id": "9o659N4kiBNP"
      }
    },
    {
      "cell_type": "code",
      "execution_count": null,
      "outputs": [
        {
          "name": "stdout",
          "output_type": "stream",
          "text": [
            "Requirement already satisfied: ptk-patrickctrf in /home/patrickctrf/anaconda3/lib/python3.9/site-packages (0.1.1)\r\n",
            "Requirement already satisfied: torch in /home/patrickctrf/anaconda3/lib/python3.9/site-packages (from ptk-patrickctrf) (1.11.0+cu113)\r\n",
            "Requirement already satisfied: tensorflow in /home/patrickctrf/anaconda3/lib/python3.9/site-packages (from ptk-patrickctrf) (2.9.1)\r\n",
            "Requirement already satisfied: numpy in /home/patrickctrf/anaconda3/lib/python3.9/site-packages (from ptk-patrickctrf) (1.21.5)\r\n",
            "Requirement already satisfied: six>=1.12.0 in /home/patrickctrf/anaconda3/lib/python3.9/site-packages (from tensorflow->ptk-patrickctrf) (1.16.0)\r\n",
            "Requirement already satisfied: keras-preprocessing>=1.1.1 in /home/patrickctrf/anaconda3/lib/python3.9/site-packages (from tensorflow->ptk-patrickctrf) (1.1.2)\r\n",
            "Requirement already satisfied: keras<2.10.0,>=2.9.0rc0 in /home/patrickctrf/anaconda3/lib/python3.9/site-packages (from tensorflow->ptk-patrickctrf) (2.9.0)\r\n",
            "Requirement already satisfied: packaging in /home/patrickctrf/anaconda3/lib/python3.9/site-packages (from tensorflow->ptk-patrickctrf) (21.3)\r\n",
            "Requirement already satisfied: libclang>=13.0.0 in /home/patrickctrf/anaconda3/lib/python3.9/site-packages (from tensorflow->ptk-patrickctrf) (14.0.1)\r\n",
            "Requirement already satisfied: setuptools in /home/patrickctrf/anaconda3/lib/python3.9/site-packages (from tensorflow->ptk-patrickctrf) (61.2.0)\r\n",
            "Requirement already satisfied: google-pasta>=0.1.1 in /home/patrickctrf/anaconda3/lib/python3.9/site-packages (from tensorflow->ptk-patrickctrf) (0.2.0)\r\n",
            "Requirement already satisfied: tensorboard<2.10,>=2.9 in /home/patrickctrf/anaconda3/lib/python3.9/site-packages (from tensorflow->ptk-patrickctrf) (2.9.0)\r\n",
            "Requirement already satisfied: flatbuffers<2,>=1.12 in /home/patrickctrf/anaconda3/lib/python3.9/site-packages (from tensorflow->ptk-patrickctrf) (1.12)\r\n",
            "Requirement already satisfied: h5py>=2.9.0 in /home/patrickctrf/anaconda3/lib/python3.9/site-packages (from tensorflow->ptk-patrickctrf) (3.6.0)\r\n",
            "Requirement already satisfied: termcolor>=1.1.0 in /home/patrickctrf/anaconda3/lib/python3.9/site-packages (from tensorflow->ptk-patrickctrf) (1.1.0)\r\n",
            "Requirement already satisfied: gast<=0.4.0,>=0.2.1 in /home/patrickctrf/anaconda3/lib/python3.9/site-packages (from tensorflow->ptk-patrickctrf) (0.4.0)\r\n",
            "Requirement already satisfied: opt-einsum>=2.3.2 in /home/patrickctrf/anaconda3/lib/python3.9/site-packages (from tensorflow->ptk-patrickctrf) (3.3.0)\r\n",
            "Requirement already satisfied: protobuf<3.20,>=3.9.2 in /home/patrickctrf/anaconda3/lib/python3.9/site-packages (from tensorflow->ptk-patrickctrf) (3.19.1)\r\n",
            "Requirement already satisfied: typing-extensions>=3.6.6 in /home/patrickctrf/anaconda3/lib/python3.9/site-packages (from tensorflow->ptk-patrickctrf) (4.1.1)\r\n",
            "Requirement already satisfied: tensorflow-estimator<2.10.0,>=2.9.0rc0 in /home/patrickctrf/anaconda3/lib/python3.9/site-packages (from tensorflow->ptk-patrickctrf) (2.9.0)\r\n",
            "Requirement already satisfied: wrapt>=1.11.0 in /home/patrickctrf/anaconda3/lib/python3.9/site-packages (from tensorflow->ptk-patrickctrf) (1.12.1)\r\n",
            "Requirement already satisfied: astunparse>=1.6.0 in /home/patrickctrf/anaconda3/lib/python3.9/site-packages (from tensorflow->ptk-patrickctrf) (1.6.3)\r\n",
            "Requirement already satisfied: grpcio<2.0,>=1.24.3 in /home/patrickctrf/anaconda3/lib/python3.9/site-packages (from tensorflow->ptk-patrickctrf) (1.42.0)\r\n",
            "Requirement already satisfied: tensorflow-io-gcs-filesystem>=0.23.1 in /home/patrickctrf/anaconda3/lib/python3.9/site-packages (from tensorflow->ptk-patrickctrf) (0.26.0)\r\n",
            "Requirement already satisfied: absl-py>=1.0.0 in /home/patrickctrf/anaconda3/lib/python3.9/site-packages (from tensorflow->ptk-patrickctrf) (1.1.0)\r\n",
            "Requirement already satisfied: wheel<1.0,>=0.23.0 in /home/patrickctrf/anaconda3/lib/python3.9/site-packages (from astunparse>=1.6.0->tensorflow->ptk-patrickctrf) (0.37.1)\r\n",
            "Requirement already satisfied: werkzeug>=1.0.1 in /home/patrickctrf/anaconda3/lib/python3.9/site-packages (from tensorboard<2.10,>=2.9->tensorflow->ptk-patrickctrf) (2.0.3)\r\n",
            "Requirement already satisfied: markdown>=2.6.8 in /home/patrickctrf/anaconda3/lib/python3.9/site-packages (from tensorboard<2.10,>=2.9->tensorflow->ptk-patrickctrf) (3.3.4)\r\n",
            "Requirement already satisfied: google-auth<3,>=1.6.3 in /home/patrickctrf/anaconda3/lib/python3.9/site-packages (from tensorboard<2.10,>=2.9->tensorflow->ptk-patrickctrf) (1.33.0)\r\n",
            "Requirement already satisfied: tensorboard-plugin-wit>=1.6.0 in /home/patrickctrf/anaconda3/lib/python3.9/site-packages (from tensorboard<2.10,>=2.9->tensorflow->ptk-patrickctrf) (1.8.1)\r\n",
            "Requirement already satisfied: requests<3,>=2.21.0 in /home/patrickctrf/anaconda3/lib/python3.9/site-packages (from tensorboard<2.10,>=2.9->tensorflow->ptk-patrickctrf) (2.27.1)\r\n",
            "Requirement already satisfied: google-auth-oauthlib<0.5,>=0.4.1 in /home/patrickctrf/anaconda3/lib/python3.9/site-packages (from tensorboard<2.10,>=2.9->tensorflow->ptk-patrickctrf) (0.4.6)\r\n",
            "Requirement already satisfied: tensorboard-data-server<0.7.0,>=0.6.0 in /home/patrickctrf/anaconda3/lib/python3.9/site-packages (from tensorboard<2.10,>=2.9->tensorflow->ptk-patrickctrf) (0.6.1)\r\n",
            "Requirement already satisfied: rsa<5,>=3.1.4 in /home/patrickctrf/anaconda3/lib/python3.9/site-packages (from google-auth<3,>=1.6.3->tensorboard<2.10,>=2.9->tensorflow->ptk-patrickctrf) (4.7.2)\r\n",
            "Requirement already satisfied: pyasn1-modules>=0.2.1 in /home/patrickctrf/anaconda3/lib/python3.9/site-packages (from google-auth<3,>=1.6.3->tensorboard<2.10,>=2.9->tensorflow->ptk-patrickctrf) (0.2.8)\r\n",
            "Requirement already satisfied: cachetools<5.0,>=2.0.0 in /home/patrickctrf/anaconda3/lib/python3.9/site-packages (from google-auth<3,>=1.6.3->tensorboard<2.10,>=2.9->tensorflow->ptk-patrickctrf) (4.2.2)\r\n",
            "Requirement already satisfied: requests-oauthlib>=0.7.0 in /home/patrickctrf/anaconda3/lib/python3.9/site-packages (from google-auth-oauthlib<0.5,>=0.4.1->tensorboard<2.10,>=2.9->tensorflow->ptk-patrickctrf) (1.3.1)\r\n",
            "Requirement already satisfied: pyasn1<0.5.0,>=0.4.6 in /home/patrickctrf/anaconda3/lib/python3.9/site-packages (from pyasn1-modules>=0.2.1->google-auth<3,>=1.6.3->tensorboard<2.10,>=2.9->tensorflow->ptk-patrickctrf) (0.4.8)\r\n",
            "Requirement already satisfied: charset-normalizer~=2.0.0 in /home/patrickctrf/anaconda3/lib/python3.9/site-packages (from requests<3,>=2.21.0->tensorboard<2.10,>=2.9->tensorflow->ptk-patrickctrf) (2.0.4)\r\n",
            "Requirement already satisfied: urllib3<1.27,>=1.21.1 in /home/patrickctrf/anaconda3/lib/python3.9/site-packages (from requests<3,>=2.21.0->tensorboard<2.10,>=2.9->tensorflow->ptk-patrickctrf) (1.26.9)\r\n",
            "Requirement already satisfied: certifi>=2017.4.17 in /home/patrickctrf/anaconda3/lib/python3.9/site-packages (from requests<3,>=2.21.0->tensorboard<2.10,>=2.9->tensorflow->ptk-patrickctrf) (2021.10.8)\r\n",
            "Requirement already satisfied: idna<4,>=2.5 in /home/patrickctrf/anaconda3/lib/python3.9/site-packages (from requests<3,>=2.21.0->tensorboard<2.10,>=2.9->tensorflow->ptk-patrickctrf) (3.3)\r\n",
            "Requirement already satisfied: oauthlib>=3.0.0 in /home/patrickctrf/anaconda3/lib/python3.9/site-packages (from requests-oauthlib>=0.7.0->google-auth-oauthlib<0.5,>=0.4.1->tensorboard<2.10,>=2.9->tensorflow->ptk-patrickctrf) (3.2.0)\r\n",
            "Requirement already satisfied: pyparsing!=3.0.5,>=2.0.2 in /home/patrickctrf/anaconda3/lib/python3.9/site-packages (from packaging->tensorflow->ptk-patrickctrf) (3.0.4)\r\n"
          ]
        }
      ],
      "source": [
        "!pip install ptk-patrickctrf"
      ],
      "metadata": {
        "pycharm": {
          "name": "#%%\n"
        },
        "id": "Xsi0LW7KiBNQ",
        "outputId": "8d1d977c-fc4f-42f5-fc79-37a1f67f0887"
      }
    },
    {
      "cell_type": "code",
      "execution_count": null,
      "outputs": [],
      "source": [
        "from torchvision import transforms, datasets\n",
        "\n",
        "transforms_all = transforms.Compose([\n",
        "    transforms.Grayscale(num_output_channels=1),\n",
        "    # transforms.RandomCrop((20, 20)),\n",
        "    transforms.Resize(size=(img_dim, img_dim)),\n",
        "    transforms.ToTensor()\n",
        "])\n",
        "\n",
        "transforms_tensor = transforms.Compose([\n",
        "    transforms.ToTensor(),\n",
        "])"
      ],
      "metadata": {
        "pycharm": {
          "name": "#%%\n"
        },
        "id": "RnEyE4xOiBNR"
      }
    },
    {
      "cell_type": "code",
      "execution_count": null,
      "outputs": [],
      "source": [
        "from torch.utils.data import Subset\n",
        "\n",
        "dataset = datasets.MNIST(root=\"./datasets\", train=True, transform=transforms_all, download=True)\n",
        "\n",
        "# Split into train and validation\n",
        "train_dataset = Subset(dataset, range(0, 6000))\n",
        "val_dataset = Subset(dataset, range(6000, len(dataset)))\n",
        "\n",
        "test_dataset = datasets.MNIST(root=\"./datasets\", train=False, transform=transforms_tensor, download=True)"
      ],
      "metadata": {
        "pycharm": {
          "name": "#%%\n"
        },
        "id": "lDHJO2qCiBNR"
      }
    },
    {
      "cell_type": "code",
      "execution_count": null,
      "outputs": [],
      "source": [
        "from torch.utils.data import DataLoader\n",
        "\n",
        "train_dataloader = DataLoader(train_dataset, batch_size=1024, shuffle=True, num_workers=4)\n",
        "val_dataloader = DataLoader(val_dataset, batch_size=1024, shuffle=True, num_workers=4)\n",
        "test_dataloader = DataLoader(test_dataset, batch_size=1, shuffle=True, num_workers=1)"
      ],
      "metadata": {
        "pycharm": {
          "name": "#%%\n"
        },
        "id": "6pJdACPliBNS"
      }
    },
    {
      "cell_type": "code",
      "execution_count": null,
      "outputs": [
        {
          "name": "stdout",
          "output_type": "stream",
          "text": [
            "Batch shape:  torch.Size([1024, 1, 28, 28])\n"
          ]
        },
        {
          "data": {
            "text/plain": "<Figure size 432x288 with 1 Axes>",
            "image/png": "[encoded data removed]"
          },
          "metadata": {
            "needs_background": "light"
          },
          "output_type": "display_data"
        }
      ],
      "source": [
        "for batch in train_dataloader:\n",
        "    print(\"Batch shape: \", batch[0].shape)\n",
        "    original_image = batch[0][0]\n",
        "    show_img(original_image)\n",
        "    # show_img(transforms_all(transforms.ToPILImage()(original_image)))\n",
        "    break"
      ],
      "metadata": {
        "pycharm": {
          "name": "#%%\n"
        },
        "id": "NwVgV_vRiBNT",
        "outputId": "b8a40aaf-be65-4434-af77-958aca5242bc"
      }
    },
    {
      "cell_type": "code",
      "execution_count": null,
      "outputs": [],
      "source": [
        "from torch import nn\n",
        "\n",
        "\n",
        "class VAE(nn.Module):\n",
        "    def __init__(self):\n",
        "        super(VAE, self).__init__()\n",
        "\n",
        "        z_dim = 8  # Dimensão do espaço latente\n",
        "\n",
        "        self.encoder = nn.Sequential(\n",
        "            nn.Flatten(),\n",
        "            nn.Linear(img_dim * img_dim, 1024),  # Entra imagem 28x28, sai um vetor de 1024 elementos\n",
        "            nn.Tanh(),\n",
        "            nn.Linear(1024, z_dim),\n",
        "        )\n",
        "\n",
        "        self.mean_layer = nn.Linear(z_dim, z_dim)\n",
        "        self.var_layer = nn.Linear(z_dim, z_dim)\n",
        "\n",
        "        self.decoder = nn.Sequential(\n",
        "            nn.Linear(z_dim, 1024),\n",
        "            nn.Tanh(),\n",
        "            nn.Linear(1024, img_dim * img_dim),\n",
        "            nn.Sigmoid(),\n",
        "        )\n",
        "\n",
        "    def encode(self, x):\n",
        "        h1 = self.encoder(x)\n",
        "        return self.mean_layer(h1), self.var_layer(h1)\n",
        "\n",
        "    def reparameterize(self, mu, logvar):\n",
        "        std = torch.exp(logvar)\n",
        "        eps = torch.randn_like(std)\n",
        "        return mu + eps * std\n",
        "\n",
        "    def decode(self, z):\n",
        "        return self.decoder(z).view(-1, 1, 28, 28)\n",
        "\n",
        "    def forward(self, x):\n",
        "        # don't forget forward pass re-index\n",
        "\n",
        "        mu, logvar = self.encode(x)\n",
        "        z = self.reparameterize(mu, logvar)\n",
        "        return self.decode(z), mu, logvar"
      ],
      "metadata": {
        "pycharm": {
          "name": "#%%\n"
        },
        "id": "7ldCWJUNiBNT"
      }
    },
    {
      "cell_type": "code",
      "execution_count": null,
      "outputs": [],
      "source": [
        "\n",
        "def loss_function(recon_x, x, mu, logvar):\n",
        "    bce = torch.nn.functional.binary_cross_entropy(recon_x.view(-1, 28 * 28), x.view(-1, 28 * 28), reduction='sum')\n",
        "\n",
        "    kld = -0.5 * torch.sum(1 + logvar - mu.pow(2) - logvar.exp())\n",
        "\n",
        "    return bce + kld"
      ],
      "metadata": {
        "pycharm": {
          "name": "#%%\n"
        },
        "id": "dPEG0CNKiBNU"
      }
    },
    {
      "cell_type": "code",
      "execution_count": null,
      "outputs": [
        {
          "name": "stderr",
          "output_type": "stream",
          "text": [
            "  0%|          | 1024/3000000 [00:02<1:38:38, 506.67it/s]"
          ]
        },
        {
          "name": "stdout",
          "output_type": "stream",
          "text": [
            "0 steps; 0 examples so far; train loss: 564414.38, valid loss: 556185.04\n"
          ]
        },
        {
          "name": "stderr",
          "output_type": "stream",
          "text": [
            " 17%|█▋        | 498000/3000000 [00:35<02:28, 16822.43it/s]"
          ]
        },
        {
          "name": "stdout",
          "output_type": "stream",
          "text": [
            "Epoch 00501: reducing learning rate of group 0 to 5.0000e-05.\n"
          ]
        },
        {
          "name": "stderr",
          "output_type": "stream",
          "text": [
            " 17%|█▋        | 501072/3000000 [00:37<09:41, 4299.94it/s] "
          ]
        },
        {
          "name": "stdout",
          "output_type": "stream",
          "text": [
            "500 steps; 500048 examples so far; train loss: 204000.06, valid loss: 163543.08\n"
          ]
        },
        {
          "name": "stderr",
          "output_type": "stream",
          "text": [
            " 33%|███▎      | 1001120/3000000 [01:14<06:46, 4914.23it/s]"
          ]
        },
        {
          "name": "stdout",
          "output_type": "stream",
          "text": [
            "1000 steps; 1000096 examples so far; train loss: 154710.91, valid loss: 155781.42\n",
            "Epoch 01002: reducing learning rate of group 0 to 2.5000e-05.\n"
          ]
        },
        {
          "name": "stderr",
          "output_type": "stream",
          "text": [
            " 50%|█████     | 1502048/3000000 [01:51<05:35, 4462.24it/s] "
          ]
        },
        {
          "name": "stdout",
          "output_type": "stream",
          "text": [
            "1500 steps; 1500000 examples so far; train loss: 149636.86, valid loss: 152918.32\n",
            "Epoch 01503: reducing learning rate of group 0 to 1.2500e-05.\n"
          ]
        },
        {
          "name": "stderr",
          "output_type": "stream",
          "text": [
            " 67%|██████▋   | 2001072/3000000 [02:28<03:58, 4188.41it/s] "
          ]
        },
        {
          "name": "stdout",
          "output_type": "stream",
          "text": [
            "2000 steps; 2000048 examples so far; train loss: 147542.28, valid loss: 151533.50\n",
            "Epoch 02004: reducing learning rate of group 0 to 1.0000e-05.\n"
          ]
        },
        {
          "name": "stderr",
          "output_type": "stream",
          "text": [
            " 83%|████████▎ | 2501120/3000000 [03:05<01:50, 4514.38it/s] "
          ]
        },
        {
          "name": "stdout",
          "output_type": "stream",
          "text": [
            "2500 steps; 2500096 examples so far; train loss: 146265.72, valid loss: 150414.99\n"
          ]
        },
        {
          "name": "stderr",
          "output_type": "stream",
          "text": [
            "100%|██████████| 3000000/3000000 [03:39<00:00, 13656.97it/s]\n"
          ]
        }
      ],
      "source": [
        "from ptk import DataManager\n",
        "from tqdm import tqdm\n",
        "from torch.optim.lr_scheduler import ReduceLROnPlateau\n",
        "from torch.cuda.amp import GradScaler, autocast\n",
        "\n",
        "max_examples = 3000000\n",
        "eval_every_steps = 500\n",
        "lr = 1e-4\n",
        "use_amp = False\n",
        "\n",
        "model = VAE().to(device)\n",
        "\n",
        "optimizer = torch.optim.Adam(model.parameters(), lr=lr)\n",
        "scheduler = ReduceLROnPlateau(optimizer, 'min', factor=0.5, min_lr=1e-5, patience=500, threshold=1e+2, verbose=True)\n",
        "scaler = GradScaler()\n",
        "\n",
        "\n",
        "def train_step(x, ):\n",
        "    model.train()\n",
        "    model.zero_grad()\n",
        "    with autocast(enabled=use_amp):\n",
        "        x_hat, mu, logvar = model(x)\n",
        "        loss = loss_function(x_hat, x, mu, logvar)\n",
        "    scaler.scale(loss).backward()\n",
        "    scaler.step(optimizer)\n",
        "    scaler.update()\n",
        "\n",
        "    return loss.item()\n",
        "\n",
        "\n",
        "def validation_step(x, ):\n",
        "    model.eval()\n",
        "    with autocast(enabled=use_amp):\n",
        "        x_hat, mu, logvar = model(x)\n",
        "        loss = loss_function(x_hat, x, mu, logvar)\n",
        "    return loss.item()\n",
        "\n",
        "\n",
        "best_validation_loss = 999999999\n",
        "train_losses = []\n",
        "n_examples = 0\n",
        "step = 0\n",
        "pbar = tqdm(total=max_examples)\n",
        "while n_examples < max_examples:\n",
        "    for imgs, target_class in DataManager(train_dataloader, device=device, buffer_size=10, data_type=None):\n",
        "        loss = train_step(imgs.to(device), )\n",
        "        train_losses.append(loss)\n",
        "\n",
        "        # LR scheduler\n",
        "        scheduler.step(loss)\n",
        "\n",
        "        if step % eval_every_steps == 0:\n",
        "            train_loss = np.average(train_losses)\n",
        "\n",
        "            with torch.no_grad():\n",
        "                valid_loss = np.average([\n",
        "                    validation_step(val_imgs.to(device), )\n",
        "                    for val_imgs, val_target_classes in DataManager(val_dataloader, device=device, buffer_size=10, data_type=None)])\n",
        "                # Checkpoint to best models found.\n",
        "                if best_validation_loss > valid_loss:\n",
        "                    # Update the new best perplexity.\n",
        "                    best_validation_loss = valid_loss\n",
        "                    model.eval()\n",
        "                    torch.save(model, \"best_model.pth\")\n",
        "\n",
        "            print(f'{step} steps; {n_examples} examples so far; train loss: {train_loss:.2f}, valid loss: {valid_loss:.2f}')\n",
        "            train_losses = []\n",
        "\n",
        "        n_examples += len(imgs)  # Increment of batch size\n",
        "        step += 1\n",
        "        pbar.update(len(imgs))\n",
        "        if n_examples >= max_examples:\n",
        "            break\n",
        "\n",
        "pbar.close()\n",
        "\n",
        "# Restore best model (checkpoint) found\n",
        "model = torch.load(\"best_model.pth\")"
      ],
      "metadata": {
        "pycharm": {
          "name": "#%%\n"
        },
        "id": "lUB_9pD8iBNV",
        "outputId": "c23e55fa-736b-4697-cf68-0a9c574c04b2"
      }
    },
    {
      "cell_type": "code",
      "execution_count": null,
      "outputs": [
        {
          "name": "stdout",
          "output_type": "stream",
          "text": [
            "Original image: \n"
          ]
        },
        {
          "data": {
            "text/plain": "<Figure size 432x288 with 1 Axes>",
            "image/png": "[encoded data removed]"
          },
          "metadata": {
            "needs_background": "light"
          },
          "output_type": "display_data"
        },
        {
          "name": "stdout",
          "output_type": "stream",
          "text": [
            "Reconstructed image: \n"
          ]
        },
        {
          "data": {
            "text/plain": "<Figure size 432x288 with 1 Axes>",
            "image/png": "[encoded data removed]"
          },
          "metadata": {
            "needs_background": "light"
          },
          "output_type": "display_data"
        },
        {
          "name": "stdout",
          "output_type": "stream",
          "text": [
            "Encoded img:  tensor([[-3.1128, -0.2040, -3.0309,  5.3066,  1.3712, -0.8655,  0.6061, -5.5351]],\n",
            "       device='cuda:0', grad_fn=<AddmmBackward0>)\n"
          ]
        }
      ],
      "source": [
        "for imgs, classes in test_dataloader:\n",
        "    imgs_hat = model(imgs.to(device))\n",
        "    print(\"Original image: \")\n",
        "    show_img(imgs[0])\n",
        "    print(\"Reconstructed image: \")\n",
        "    show_img(imgs_hat[0][0].cpu().detach())\n",
        "    print(\"Encoded img: \", model.encoder(imgs.to(device)))\n",
        "    break\n"
      ],
      "metadata": {
        "pycharm": {
          "name": "#%%\n"
        },
        "id": "44pmGngxiBNW",
        "outputId": "98b3bf1a-c60c-4ae9-a097-ce16ce8f5d32"
      }
    },
    {
      "cell_type": "code",
      "execution_count": null,
      "outputs": [
        {
          "data": {
            "text/plain": "<Figure size 432x288 with 1 Axes>",
            "image/png": "[encoded data removed]"
          },
          "metadata": {
            "needs_background": "light"
          },
          "output_type": "display_data"
        }
      ],
      "source": [
        "z = torch.tensor([[-0.1, 1.4, -4.4, -0.5, 0.3, -5.1, -1.5, 0.2]]).to(device)\n",
        "\n",
        "show_img(model.decode(z).view(1, 28, 28).cpu().detach())"
      ],
      "metadata": {
        "pycharm": {
          "name": "#%%\n"
        },
        "id": "JY9KwFyfiBNX",
        "outputId": "e69b2927-698e-4add-c24b-72a5fbd4838e"
      }
    },
    {
      "cell_type": "code",
      "execution_count": null,
      "outputs": [],
      "source": [
        "# print(\"mu: \", mu)\n",
        "# print(\"logvar: \", logvar)\n",
        "# print(\"z: \", z)\n",
        "\n",
        "# mu, logvar = model.mean_layer(torch.tensor([[-3.1128, -0.2040, -3.0309,  5.3066,  1.3712, -0.8655,  0.6061, -5.5351]]).to(device)), model.var_layer(torch.tensor([[ 4.4,  5.2, -0.4, -4.3,  2.4,  2.6,  1.0, -3.0]]).to(device))\n",
        "# z = model.reparameterize(mu, logvar)\n",
        "\n",
        "\n",
        "# mu = torch.tensor([[-0.6430,  0.3323,  3.0516, -0.2617,  0.2254, -0.8837, -1.1234, -0.2685]]).to(device)\n",
        "# logvar = torch.tensor([[-1.1355,  1.7364,  1.7175,  2.5520, -1.7615,  1.1535, -0.2506,  0.4210]]).to(device)"
      ],
      "metadata": {
        "pycharm": {
          "name": "#%%\n"
        },
        "id": "63F7N_C5iBNX"
      }
    }
  ],
  "metadata": {
    "kernelspec": {
      "display_name": "Python 3",
      "language": "python",
      "name": "python3"
    },
    "language_info": {
      "codemirror_mode": {
        "name": "ipython",
        "version": 2
      },
      "file_extension": ".py",
      "mimetype": "text/x-python",
      "name": "python",
      "nbconvert_exporter": "python",
      "pygments_lexer": "ipython2",
      "version": "2.7.6"
    },
    "colab": {
      "name": "vae.ipynb",
      "provenance": [],
      "include_colab_link": true
    }
  },
  "nbformat": 4,
  "nbformat_minor": 0
}